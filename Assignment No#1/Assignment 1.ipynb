{
 "cells": [
  {
   "cell_type": "code",
   "execution_count": 2,
   "id": "42c65f1a",
   "metadata": {},
   "outputs": [
    {
     "name": "stdout",
     "output_type": "stream",
     "text": [
      "Twinkle, twinkle, little stars,\n",
      "\t How I wonder what you are|\n",
      "\t\t Up above the world so high,\n",
      "\t\t Like a diamond in the sky,\n",
      "Twinkle, twinkle, little stars,\n",
      "\t How I wonder what you are,\n"
     ]
    }
   ],
   "source": [
    "print(\"Twinkle, twinkle, little stars,\");\n",
    "print(\"\\t How I wonder what you are|\");\n",
    "print(\"\\t\\t Up above the world so high,\");\n",
    "print(\"\\t\\t Like a diamond in the sky,\");\n",
    "print(\"Twinkle, twinkle, little stars,\");\n",
    "print(\"\\t How I wonder what you are,\");"
   ]
  },
  {
   "cell_type": "code",
   "execution_count": 3,
   "id": "79d93a67",
   "metadata": {},
   "outputs": [
    {
     "name": "stdout",
     "output_type": "stream",
     "text": [
      "My python version is\n",
      "3.9.7 (default, Sep 16 2021, 16:59:28) [MSC v.1916 64 bit (AMD64)]\n"
     ]
    }
   ],
   "source": [
    "import sys\n",
    "print(\"My python version is\");\n",
    "print(sys.version);"
   ]
  },
  {
   "cell_type": "code",
   "execution_count": 6,
   "id": "41685c62",
   "metadata": {},
   "outputs": [
    {
     "name": "stdout",
     "output_type": "stream",
     "text": [
      "The current date and time is:\n",
      "2022-01-01 00:11:48.484371\n"
     ]
    }
   ],
   "source": [
    "import datetime\n",
    "print(\"The current date and time is:\");\n",
    "Today_Date = datetime.datetime.now();\n",
    "print(Today_Date);"
   ]
  },
  {
   "cell_type": "code",
   "execution_count": 7,
   "id": "c8aa6e2f",
   "metadata": {},
   "outputs": [
    {
     "name": "stdout",
     "output_type": "stream",
     "text": [
      "Enter the radius of circle: 5.7\n",
      "The area of the circle is: 102.07034531513239\n"
     ]
    }
   ],
   "source": [
    "import math\n",
    "radius = float(input(\"Enter the radius of circle: \"));\n",
    "area = math.pi * radius * radius;\n",
    "print(\"The area of the circle is: {0}\".format(area));"
   ]
  },
  {
   "cell_type": "code",
   "execution_count": 11,
   "id": "d27c6185",
   "metadata": {},
   "outputs": [
    {
     "name": "stdout",
     "output_type": "stream",
     "text": [
      "First Name: Laiba\n",
      "Last Name: Raheel\n",
      "My first name is: Raheel Laiba\n"
     ]
    }
   ],
   "source": [
    "First_Name = input(\"First Name: \");\n",
    "Last_Name = input(\"Last Name: \");\n",
    "print(\"My first name is: \" + Last_Name + \" \" + First_Name);"
   ]
  },
  {
   "cell_type": "code",
   "execution_count": 12,
   "id": "e187631a",
   "metadata": {},
   "outputs": [
    {
     "name": "stdout",
     "output_type": "stream",
     "text": [
      "Enter Number 1: 7\n",
      "Enter Number 2: 3\n",
      "The sum is: 10\n"
     ]
    }
   ],
   "source": [
    "num_1 = int(input(\"Enter Number 1: \"));\n",
    "num_2 = int(input(\"Enter Number 2: \"));\n",
    "print(\"The sum is: {0}\".format(num_1+num_2));"
   ]
  },
  {
   "cell_type": "code",
   "execution_count": null,
   "id": "65024692",
   "metadata": {},
   "outputs": [],
   "source": []
  }
 ],
 "metadata": {
  "kernelspec": {
   "display_name": "Python 3 (ipykernel)",
   "language": "python",
   "name": "python3"
  },
  "language_info": {
   "codemirror_mode": {
    "name": "ipython",
    "version": 3
   },
   "file_extension": ".py",
   "mimetype": "text/x-python",
   "name": "python",
   "nbconvert_exporter": "python",
   "pygments_lexer": "ipython3",
   "version": "3.9.7"
  }
 },
 "nbformat": 4,
 "nbformat_minor": 5
}
